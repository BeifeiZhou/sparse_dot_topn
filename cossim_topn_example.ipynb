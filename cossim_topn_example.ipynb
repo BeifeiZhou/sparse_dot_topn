{
 "cells": [
  {
   "cell_type": "code",
   "execution_count": null,
   "metadata": {
    "collapsed": true,
    "deletable": true,
    "editable": true
   },
   "outputs": [],
   "source": [
    "import numpy as np\n",
    "from scipy.sparse import csr_matrix\n",
    "from scipy.sparse import rand"
   ]
  },
  {
   "cell_type": "code",
   "execution_count": null,
   "metadata": {
    "collapsed": false,
    "deletable": true,
    "editable": true
   },
   "outputs": [],
   "source": [
    "import wbaa_utils.sparse\n",
    "dir(wbaa_utils.sparse)"
   ]
  },
  {
   "cell_type": "code",
   "execution_count": null,
   "metadata": {
    "collapsed": false,
    "deletable": true,
    "editable": true
   },
   "outputs": [],
   "source": [
    "from wbaa_utils.sparse import cossim_topn"
   ]
  },
  {
   "cell_type": "code",
   "execution_count": null,
   "metadata": {
    "collapsed": false,
    "deletable": true,
    "editable": true
   },
   "outputs": [],
   "source": [
    "a = rand(5, 100000, density=0.01, format='csr')\n",
    "b = rand(100000, 8, density=0.01, format='csr')"
   ]
  },
  {
   "cell_type": "code",
   "execution_count": null,
   "metadata": {
    "collapsed": true,
    "deletable": true,
    "editable": true
   },
   "outputs": [],
   "source": [
    "def awesome_cossim_top(A, B, ntop, lower_bound=0):\n",
    "    B = B.tocsr()\n",
    "    \n",
    "    M, K1 = A.shape\n",
    "    K2, N = B.shape\n",
    "\n",
    "    idx_dtype = np.int32\n",
    "    \n",
    "    nnz_max = M*ntop\n",
    "    \n",
    "    indptr = np.empty(M+1, dtype=idx_dtype)\n",
    "    indices = np.empty(nnz_max, dtype=idx_dtype)\n",
    "    data = np.empty(nnz_max, dtype=A.dtype)\n",
    "\n",
    "    cossim_topn(\n",
    "        M, N, np.asarray(A.indptr, dtype=idx_dtype),\n",
    "       np.asarray(A.indices, dtype=idx_dtype),\n",
    "       A.data,\n",
    "       np.asarray(B.indptr, dtype=idx_dtype),\n",
    "       np.asarray(B.indices, dtype=idx_dtype),\n",
    "       B.data,\n",
    "        ntop,\n",
    "       lower_bound,\n",
    "       indptr, indices, data)\n",
    "    \n",
    "    return csr_matrix((data,indices,indptr),shape=(M,N))"
   ]
  },
  {
   "cell_type": "code",
   "execution_count": null,
   "metadata": {
    "collapsed": false,
    "deletable": true,
    "editable": true
   },
   "outputs": [],
   "source": [
    "c = awesome_cossim_top(a, b, 5, 0)\n",
    "print c.data\n",
    "print c.indptr\n",
    "print c.indices\n",
    "print c.todense()\n",
    "print [zip(row.indices, row.data) for row in c]"
   ]
  },
  {
   "cell_type": "code",
   "execution_count": null,
   "metadata": {
    "collapsed": false,
    "deletable": true,
    "editable": true
   },
   "outputs": [],
   "source": [
    "d = a.dot(b)\n",
    "print d.todense()"
   ]
  },
  {
   "cell_type": "code",
   "execution_count": null,
   "metadata": {
    "collapsed": true,
    "deletable": true,
    "editable": true
   },
   "outputs": [],
   "source": []
  }
 ],
 "metadata": {
  "anaconda-cloud": {},
  "kernelspec": {
   "display_name": "Python 2",
   "language": "python",
   "name": "python2"
  },
  "language_info": {
   "codemirror_mode": {
    "name": "ipython",
    "version": 2
   },
   "file_extension": ".py",
   "mimetype": "text/x-python",
   "name": "python",
   "nbconvert_exporter": "python",
   "pygments_lexer": "ipython2",
   "version": "2.7.13"
  },
  "toc": {
   "nav_menu": {
    "height": "12px",
    "width": "252px"
   },
   "navigate_menu": true,
   "number_sections": true,
   "sideBar": true,
   "threshold": 4,
   "toc_cell": false,
   "toc_section_display": "block",
   "toc_window_display": false
  }
 },
 "nbformat": 4,
 "nbformat_minor": 2
}
